{
 "cells": [
  {
   "cell_type": "markdown",
   "metadata": {},
   "source": [
    "# Learning progress: Evaluación del BERT a lo largo de las etapas del finetuning\n",
    "\n",
    "Lo vamos a hacer primero con un conjunto de prueba:\n",
    "* Abstracts de los que se tomó la muestra: [abstracts.csv](../../pubmed-queries/abstracts/abstracts.csv)\n",
    "* Muestra fenotipos/etiquetas: [index-phenotypes.csv](../../pubmed-queries/abstracts/index-phenotypes.csv)\n",
    "* Fenotipos test: [phenotypes-22-12-15.csv](../../pubmed-queries/results/phenotypes-22-12-15.csv) = nodos hoja HPO:PhenotypicAbnormality\n",
    "\n",
    "Pasos a seguir:\n",
    "1. Cargar todos los datos:\n",
    "  * BERT de partida.\n",
    "  * Ontología.\n",
    "  * Datos crudos de entrenamiento (abstracts+fenotipos).\n",
    "2. Preparar el entrenamiento:\n",
    "  * Datos procesados de train (dataloaders)\n",
    "  * Función de pérdida: BatchAllTripletLoss\n",
    "  * Función de evaluación:\n",
    "    * a) EmbeddingSimilarityEvaluator\n",
    "      * Preparar pares de fenotipos (train/test?)\n",
    "      * Calcular gold scores\n",
    "    * b) Implementarla (SentenceEvaluator) con la funcionalidad:\n",
    "      * Calcular MSE y correlación Train/Test.\n",
    "      * Escribir datos en un csv.\n",
    "      * Devolver la correlación de Test.\n",
    "3. Fit: probar en el servidor y guardar los resultados.\n",
    "4. Out: mostrar e interpretar los resultados.\n",
    "  * Gráfica MSE / etapa (train/test)\n",
    "  * Gráfica correlación / etapa (train/test)\n",
    "\n",
    "## 1. Cargar todos los datos"
   ]
  },
  {
   "cell_type": "code",
   "execution_count": 33,
   "metadata": {},
   "outputs": [],
   "source": [
    "# IMPORTS\n",
    "from cmath import nan\n",
    "import sentence_transformers\n",
    "import torch\n",
    "from sentence_transformers import SentenceTransformer\n",
    "import numpy as np\n",
    "import pandas as pd\n",
    "import nltk\n",
    "import string\n",
    "from nltk.tokenize import word_tokenize\n",
    "from nltk.corpus import stopwords"
   ]
  },
  {
   "cell_type": "code",
   "execution_count": 34,
   "metadata": {},
   "outputs": [
    {
     "data": {
      "text/plain": [
       "0"
      ]
     },
     "execution_count": 34,
     "metadata": {},
     "output_type": "execute_result"
    }
   ],
   "source": [
    "# 1. Cargar todos los datos (crudos)\n",
    "from pyhpo import Ontology\n",
    "import os\n",
    "\n",
    "SRCPATH = '../..'\n",
    "SEED = 42\n",
    "\n",
    "# 1.1 BERT de partida\n",
    "\n",
    "PRITAMDEKAMODEL = 'pritamdeka/BioBERT-mnli-snli-scinli-scitail-mednli-stsb'\n",
    "bertmodel = SentenceTransformer(PRITAMDEKAMODEL)\n",
    "model = bertmodel\n",
    "\n",
    "# 1.2 Ontología\n",
    "\n",
    "onto = Ontology(SRCPATH+ '/pubmed-queries/hpo-22-12-15-data')\n",
    "\n",
    "# 1.3 Datos crudos de entrenamiento\n",
    "\n",
    "PATH_DATA = SRCPATH + '/pubmed-queries/abstracts'\n",
    "PATH_DATA_CSV = PATH_DATA + '/abstracts.csv'\n",
    "PATH_DATA_FENOTIPOS = SRCPATH + '/pubmed-queries/results/phenotypes-22-12-15.csv'\n",
    "PATH_INDEX_FENOTIPOS = PATH_DATA + '/index-phenotypes.csv'\n",
    "\n",
    "# abstracts\n",
    "dfPapers = pd.read_csv(PATH_DATA_CSV, sep='\\t', low_memory=False, na_values=['', nan])\n",
    "# fenotipos test\n",
    "dfPhenotypes = pd.read_csv(PATH_DATA_FENOTIPOS, sep=';', low_memory=False, na_values=['', nan])\n",
    "# fenotipos train\n",
    "dfIndex = pd.read_csv(PATH_INDEX_FENOTIPOS, sep='\\t', low_memory=False, na_values=['', nan])\n",
    "\n",
    "# Guardar en directorio manejable\n",
    "PATH_TRAINDATA = SRCPATH + '/traindata'\n",
    "\n",
    "# crear directorios si no existen\n",
    "for dir in [PATH_TRAINDATA, PATH_TRAINDATA + '/abstracts',\n",
    "            PATH_TRAINDATA + '/phenotypes', PATH_TRAINDATA + '/onto']:\n",
    "    if not os.path.exists(dir):\n",
    "        os.makedirs(dir)\n",
    "\n",
    "dfPapers.to_csv(PATH_TRAINDATA + '/abstracts/abstracts.csv', sep='\\t', index=False)\n",
    "dfPhenotypes.to_csv(PATH_TRAINDATA + '/phenotypes/phenotypes.csv', sep=';', index=False)\n",
    "dfIndex.to_csv(PATH_TRAINDATA + '/phenotypes/index.csv', sep='\\t', index=False)\n",
    "\n",
    "# copiar ontology al directorio tambien\n",
    "os.system('cp -r ' + SRCPATH + '/pubmed-queries/hpo-22-12-15-data ' + PATH_TRAINDATA + '/onto')\n"
   ]
  },
  {
   "cell_type": "markdown",
   "metadata": {},
   "source": [
    "## 2. Preparar el entrenamiento"
   ]
  },
  {
   "cell_type": "code",
   "execution_count": 35,
   "metadata": {},
   "outputs": [
    {
     "name": "stdout",
     "output_type": "stream",
     "text": [
      "Na's: 1854\n"
     ]
    },
    {
     "name": "stderr",
     "output_type": "stream",
     "text": [
      "[nltk_data] Downloading package punkt to /home/domingo/nltk_data...\n",
      "[nltk_data]   Package punkt is already up-to-date!\n",
      "[nltk_data] Downloading package stopwords to\n",
      "[nltk_data]     /home/domingo/nltk_data...\n",
      "[nltk_data]   Package stopwords is already up-to-date!\n"
     ]
    },
    {
     "name": "stdout",
     "output_type": "stream",
     "text": [
      "Clean abstracts in:  ../../traindata/abstracts/abstracts-clean.csv\n",
      "Total abstracts:  23226\n",
      "Number of phenotype tags: 100\n"
     ]
    }
   ],
   "source": [
    "# Procesar los datos de train/loss/test\n",
    "\n",
    "# 2.1. Clean abstracts\n",
    "\n",
    "# Tratar NA's en la columna abstracts -> cambiar por el título\n",
    "def getPhenDesc(phenotypeName):\n",
    "    hpoNode = onto.get_hpo_object(phenotypeName) \n",
    "    description = hpoNode.definition if hpoNode.definition else '\"\"'\n",
    "    return description\n",
    "\n",
    "print('Na\\'s:', dfPapers['abstract'].isna().sum())\n",
    "dfPapers['abstract'] = dfPapers['abstract'].fillna(dfPapers['title'])\n",
    "\n",
    "# Función clean abstract\n",
    "\n",
    "# Download the stopwords from NLTK\n",
    "PATH_NTLK = os.path.realpath(SRCPATH + '/traindata/nltk')\n",
    "if not os.path.exists(PATH_NTLK):\n",
    "    os.makedirs(PATH_NTLK)\n",
    "\n",
    "os.environ['NLTK_DATA'] = PATH_NTLK\n",
    "\n",
    "nltk.download('punkt')\n",
    "nltk.download('stopwords')\n",
    "\n",
    "cached_stopwords = stopwords.words('english')\n",
    "def clean_abstract(abstract):\n",
    "    if isinstance(abstract, float) and np.isnan(abstract):\n",
    "        return ''\n",
    "    # Convert the text to lowercase\n",
    "    abstract = abstract.lower()\n",
    "\n",
    "    # Remove punctuation\n",
    "    abstract = abstract.translate(str.maketrans('', '', string.punctuation))\n",
    "\n",
    "    # Tokenize the text\n",
    "    tokens = word_tokenize(abstract)\n",
    "\n",
    "    # Remove stopwords\n",
    "    tokens = [word for word in tokens if not word in cached_stopwords]\n",
    "\n",
    "    # Join the tokens back into a single string\n",
    "    abstract = ' '.join(tokens)\n",
    "\n",
    "    return abstract\n",
    "\n",
    "# Save clean abstracts csv\n",
    "\n",
    "dfPapers['clean_abstract'] = dfPapers['abstract'].apply(clean_abstract)\n",
    "dfPapers.drop(columns=['abstract'], inplace=True)\n",
    "dfPapers.to_csv(PATH_TRAINDATA + '/abstracts/abstracts-clean.csv', sep='\\t', index=False)\n",
    "\n",
    "print('Clean abstracts in: ', PATH_TRAINDATA + '/abstracts/abstracts-clean.csv')\n",
    "print('Total abstracts: ', len(dfPapers))\n",
    "\n",
    "# 2.2 Tags = phenotypes (train)\n",
    "\n",
    "tags = dfIndex['phenotypeName']\n",
    "numlabels = len(tags)\n",
    "print('Number of phenotype tags:', numlabels)\n",
    "mapping = {tag: i for i, tag in enumerate(tags)}\n",
    "\n",
    "def getLabelNumber(phenotypeName):\n",
    "    return mapping[phenotypeName]"
   ]
  },
  {
   "cell_type": "markdown",
   "metadata": {},
   "source": [
    "### 2.3 Profiling\n",
    "Tomamos solo una muestra del 5% de los abstracts totales para realizar las pruebas más rápido. Cuando funcionen las pruebas se cambia para la versión oficial del experimento."
   ]
  },
  {
   "cell_type": "code",
   "execution_count": 36,
   "metadata": {},
   "outputs": [
    {
     "name": "stdout",
     "output_type": "stream",
     "text": [
      "Number of train examples: 116\n"
     ]
    }
   ],
   "source": [
    "from torch.utils.data import DataLoader, Dataset\n",
    "from sentence_transformers import SentenceTransformer, SentencesDataset, losses, evaluation, InputExample\n",
    "\n",
    "PROFILING = True\n",
    "SAMPLEPERCENT = 0.005 if PROFILING else 1.0\n",
    "SEED = 42\n",
    "torch.manual_seed(SEED)\n",
    "\n",
    "dTrain = dfPapers.sample(frac=SAMPLEPERCENT, random_state=SEED)\n",
    "numexamples = len(dTrain)\n",
    "print('Number of train examples:', numexamples)\n",
    "dTrain.to_csv(PATH_TRAINDATA + '/abstracts/abstracts-train.csv', sep='\\t', index=False)"
   ]
  },
  {
   "cell_type": "markdown",
   "metadata": {},
   "source": [
    "### 2.4 Dataloaders"
   ]
  },
  {
   "cell_type": "code",
   "execution_count": 37,
   "metadata": {},
   "outputs": [
    {
     "name": "stdout",
     "output_type": "stream",
     "text": [
      "Number of test pairs samples: 100\n"
     ]
    }
   ],
   "source": [
    "# Ejemplos de entrenamiento\n",
    "\n",
    "# pares (abstract,fenotipo)\n",
    "abstractsTrain = [InputExample(texts=[clean_abstract(x)], label=mapping[y]) for x, y in zip(dTrain['clean_abstract'], dTrain['phenotypeName'])]\n",
    "train_dataloader = DataLoader(abstractsTrain, shuffle=True, batch_size=16)\n",
    "\n",
    "from itertools import combinations\n",
    "import itertools\n",
    "import random\n",
    "\n",
    "# Ejemplos de evaluación (train)\n",
    "\n",
    "def onto_sim(name1, name2):\n",
    "    phen1 = onto.get_hpo_object(name1)\n",
    "    phen2 = onto.get_hpo_object(name2)\n",
    "    sim = min(phen1.similarity_score(phen2, method='lin'),1)\n",
    "    return sim\n",
    "\n",
    "# Son pares de fenotipos (con su gold score si es necesario)\n",
    "dmp = pd.DataFrame(dfIndex, columns=['phenotypeName'])\n",
    "index_pairs = combinations(range(0,len(dmp)), 2)\n",
    "\n",
    "lpairs = list(combinations(dmp['phenotypeName'], 2))\n",
    "ltrain1, ltrain2 = zip(*lpairs) # 2 listas diferentes para pasar como parámetro al evaluator\n",
    "\n",
    "goldTrain = [onto_sim(pair[0], pair[1]) for pair in lpairs]\n",
    "\n",
    "# Ejemplos de evaluación (test)\n",
    "\n",
    "import random\n",
    "\n",
    "def random_combination(iterable, r):\n",
    "    \"Random selection from itertools.combinations(iterable, r)\"\n",
    "    pool = tuple(iterable)\n",
    "    n = len(pool)\n",
    "    indices = sorted(random.sample(range(n), r))\n",
    "    return tuple(pool[i] for i in indices)\n",
    "\n",
    "# Obtén una lista de todos los valores únicos en la columna 'phenotypeName'\n",
    "\n",
    "num_samples = 100  # Number of combinations to sample\n",
    "print('Number of test pairs samples:', num_samples)\n",
    "\n",
    "# Usa random_combination para obtener una muestra aleatoria de 2000 pares\n",
    "sample_pairs = [random_combination(dfPhenotypes['Phenotype'], 2) for _ in range(num_samples)]\n",
    "ltest1, ltest2 = zip(*sample_pairs)\n",
    "\n",
    "goldTest = [onto_sim(pair[0], pair[1]) for pair in sample_pairs]\n",
    "\n",
    "# Guardar los pares de evaluación\n",
    "\n",
    "dfVal = pd.DataFrame({'phenotype1': ltrain1, 'phenotype2': ltrain2, 'lin': goldTrain})\n",
    "dfTest = pd.DataFrame({'phenotype1': ltest1, 'phenotype2': ltest2, 'lin': goldTest})\n",
    "\n",
    "if not os.path.exists(PATH_TRAINDATA + '/evaluation'):\n",
    "    os.makedirs(PATH_TRAINDATA + '/evaluation')\n",
    "\n",
    "dfVal.to_csv(PATH_TRAINDATA + '/evaluation/pairs-val.csv', sep='\\t', index=False)\n",
    "dfTest.to_csv(PATH_TRAINDATA + '/evaluation/pairs-test.csv', sep='\\t', index=False)"
   ]
  },
  {
   "cell_type": "markdown",
   "metadata": {},
   "source": [
    "### 2.6 Funciones de pérdida y evaluación\n",
    "* Primero probaremos la opción a) con la función predefinida EmbeddingSimilarityEvaluator para los datos de train."
   ]
  },
  {
   "cell_type": "code",
   "execution_count": 38,
   "metadata": {},
   "outputs": [
    {
     "name": "stdout",
     "output_type": "stream",
     "text": [
      "Loss Function: BatchAllTripletLoss(margin=0.3743)\n",
      "Evaluator: EmbeddingSimilarityEvaluator(cosine_similarity)\n"
     ]
    }
   ],
   "source": [
    "# Loss function\n",
    "from sentence_transformers.evaluation import SimilarityFunction\n",
    "\n",
    "MARGIN = 0.3743\n",
    "print(f'Loss Function: BatchAllTripletLoss(margin={MARGIN})')\n",
    "train_loss = losses.BatchAllTripletLoss(model=model, distance_metric=losses.BatchHardTripletLossDistanceFunction.cosine_distance, margin=MARGIN)\n",
    "\n",
    "# Evaluator\n",
    "\n",
    "# a)\n",
    "\n",
    "evaluatorTrain=sentence_transformers.evaluation.EmbeddingSimilarityEvaluator(ltrain1, ltrain2, goldTrain,\n",
    "                                                                             main_similarity=SimilarityFunction.COSINE,\n",
    "                                                                             name='train')\n",
    "evaluatorTest=sentence_transformers.evaluation.EmbeddingSimilarityEvaluator(ltest1, ltest2, goldTest,\n",
    "                                                                            main_similarity=SimilarityFunction.COSINE,\n",
    "                                                                            name='test')\n",
    "combined_evaluator = evaluation.SequentialEvaluator([evaluatorTrain, evaluatorTest],\n",
    "                                                    main_score_function=lambda scores: scores[1])\n",
    "# test score prevalece\n",
    "\n",
    "print('Evaluator: EmbeddingSimilarityEvaluator(cosine_similarity)')"
   ]
  },
  {
   "cell_type": "markdown",
   "metadata": {},
   "source": [
    "### 3. Fit"
   ]
  },
  {
   "cell_type": "code",
   "execution_count": 39,
   "metadata": {},
   "outputs": [
    {
     "name": "stdout",
     "output_type": "stream",
     "text": [
      "Fit parameters: num_epochs=2, evaluation_steps=1,warmup_steps=1\n"
     ]
    }
   ],
   "source": [
    "num_epochs = 2\n",
    "num_examples = len(dTrain)\n",
    "ev_steps = len(train_dataloader)//5 # 5 evaluations per epoch\n",
    "\n",
    "if not os.path.exists(SRCPATH + '/output'):\n",
    "    os.makedirs(SRCPATH + '/output')\n",
    "\n",
    "print(f'Fit parameters: num_epochs={num_epochs},',\n",
    "      f'evaluation_steps={ev_steps},warmup_steps={int(0.25*(num_examples//16))}')"
   ]
  },
  {
   "cell_type": "code",
   "execution_count": 40,
   "metadata": {},
   "outputs": [
    {
     "name": "stdout",
     "output_type": "stream",
     "text": [
      "Fitting...\n"
     ]
    },
    {
     "data": {
      "application/vnd.jupyter.widget-view+json": {
       "model_id": "e567533762d540c28ee3711ad54b4882",
       "version_major": 2,
       "version_minor": 0
      },
      "text/plain": [
       "Epoch:   0%|          | 0/2 [00:00<?, ?it/s]"
      ]
     },
     "metadata": {},
     "output_type": "display_data"
    },
    {
     "data": {
      "application/vnd.jupyter.widget-view+json": {
       "model_id": "55a4cecf7fa44aa68608138df3070438",
       "version_major": 2,
       "version_minor": 0
      },
      "text/plain": [
       "Iteration:   0%|          | 0/8 [00:00<?, ?it/s]"
      ]
     },
     "metadata": {},
     "output_type": "display_data"
    },
    {
     "data": {
      "application/vnd.jupyter.widget-view+json": {
       "model_id": "b5f2fab8d7a64bf197039134b56107d6",
       "version_major": 2,
       "version_minor": 0
      },
      "text/plain": [
       "Iteration:   0%|          | 0/8 [00:00<?, ?it/s]"
      ]
     },
     "metadata": {},
     "output_type": "display_data"
    },
    {
     "name": "stdout",
     "output_type": "stream",
     "text": [
      "Execution time for model.fit: 2605.83 seconds\n"
     ]
    }
   ],
   "source": [
    "print(\"Fitting...\")\n",
    "import time\n",
    "FITTED = False\n",
    "if FITTED:\n",
    "    model = SentenceTransformer(SRCPATH + '/output/fine-tuned-bio-bert-ev')\n",
    "    execution_time = 2605.83\n",
    "else:\n",
    "    start_time = time.time()\n",
    "    model.fit(\n",
    "        train_objectives=[(train_dataloader, train_loss)],\n",
    "        evaluator=combined_evaluator,\n",
    "        epochs=num_epochs,\n",
    "        #evaluation_steps=(num_examples//16)//num_epochs//2,\n",
    "        evaluation_steps=ev_steps,\n",
    "        warmup_steps=int(0.25*(num_examples//16)),\n",
    "        output_path=SRCPATH+'/output/fine-tuned-bio-bert-ev',\n",
    "        save_best_model=True,\n",
    "        checkpoint_path='./checkpoint',\n",
    "        checkpoint_save_steps=ev_steps,\n",
    "        checkpoint_save_total_limit=num_epochs\n",
    "    )\n",
    "\n",
    "    end_time = time.time()\n",
    "    execution_time = end_time - start_time\n",
    "\n",
    "print(f\"Execution time for model.fit: {execution_time:.2f} seconds\")\n",
    "fmodel = model # finetuned model"
   ]
  },
  {
   "cell_type": "markdown",
   "metadata": {},
   "source": [
    " ## Resultados\n",
    "El modelo obtenido queda en el directorio [src/output/fine-tuned-bio-bert-ev](../../output/fine-tuned-bio-bert-ev/README.md) y en él hay un subdirectorio eval donde están los csv resultantes de los pasos de evaluación. Los pasos a seguir para analizar los resultados son:\n",
    "1. Calcular score original del modelo model (train y test)\n",
    "2. Obtener los y=scores (pearson) y x = train_step\n",
    "3. Dibujar las gráficas de correlación de train y test\n",
    "4. Analizar los resultados y determinar el próximo objetivo"
   ]
  },
  {
   "cell_type": "code",
   "execution_count": 41,
   "metadata": {},
   "outputs": [
    {
     "name": "stdout",
     "output_type": "stream",
     "text": [
      "Original score (spearman): 0.056239004381953034 (train), 0.1240971112258159 (test)\n"
     ]
    }
   ],
   "source": [
    "# Cargar modelo de nuevo (se sobreescribe al hacer fit)\n",
    "bertmodel = SentenceTransformer(PRITAMDEKAMODEL)\n",
    "model = bertmodel\n",
    "\n",
    "# 1. Calcular score original\n",
    "\n",
    "EVPATH = SRCPATH + '/output/fine-tuned-bio-bert-ev/eval'\n",
    "scoreTrain = evaluatorTrain.__call__(model=bertmodel, output_path=EVPATH, epoch=0, steps=0)\n",
    "scoreTest = evaluatorTest.__call__(model=bertmodel, output_path=EVPATH, epoch=0, steps=0)\n",
    "print(f'Original score (spearman): {scoreTrain} (train), {scoreTest} (test)')"
   ]
  },
  {
   "cell_type": "code",
   "execution_count": 42,
   "metadata": {},
   "outputs": [
    {
     "data": {
      "image/png": "[encoded data removed]",
      "text/plain": [
       "<Figure size 640x480 with 1 Axes>"
      ]
     },
     "metadata": {},
     "output_type": "display_data"
    },
    {
     "data": {
      "image/png": "[encoded data removed]",
      "text/plain": [
       "<Figure size 640x480 with 1 Axes>"
      ]
     },
     "metadata": {},
     "output_type": "display_data"
    }
   ],
   "source": [
    "from matplotlib import pyplot as plt\n",
    "\n",
    "# 2. Obtener los y=pearson, x=steps\n",
    "\n",
    "dfScoreTrain = pd.read_csv(EVPATH + '/similarity_evaluation_train_results.csv')\n",
    "dfScoreTest = pd.read_csv(EVPATH + '/similarity_evaluation_test_results.csv')\n",
    "\n",
    "def sort_dfScores(df, ev_steps, tam_epoch):\n",
    "    df['batch_count'] = df['epoch']*tam_epoch + df['steps']*ev_steps\n",
    "    return df.sort_values('batch_count')\n",
    "\n",
    "dfScoreTrain = sort_dfScores(dfScoreTrain, ev_steps, len(train_dataloader))\n",
    "dfScoreTest = sort_dfScores(dfScoreTest, ev_steps, len(train_dataloader))\n",
    "\n",
    "def get_data(df, ev_steps, train_dataloader):\n",
    "    x = []\n",
    "    y = []\n",
    "    z = []\n",
    "\n",
    "    for row in df.iterrows():\n",
    "        if row[1]['steps'] <= 0:\n",
    "            continue\n",
    "        x_val = row[1]['batch_count']\n",
    "        y_val = row[1]['cosine_pearson']\n",
    "        z_val = row[1]['cosine_spearman']\n",
    "        x.append(x_val)\n",
    "        y.append(y_val)\n",
    "        z.append(z_val)\n",
    "    \n",
    "    return x, y, z\n",
    "\n",
    "def plot_data(xtrain, ytrain, xtest, ytest, ylabel):\n",
    "    plt.plot(xtrain, ytrain, label='Train')\n",
    "    plt.plot(xtest, ytest, label='Test')\n",
    "    xlabel = 'Batches'\n",
    "    plt.xlabel(xlabel)\n",
    "    plt.ylabel(ylabel)\n",
    "    plt.title(ylabel + ' vs ' + xlabel)\n",
    "    plt.legend()\n",
    "    plt.show()\n",
    "\n",
    "# 2. Obtener los datos\n",
    "xtrain, ytrain, ztrain = get_data(dfScoreTrain, ev_steps, train_dataloader)\n",
    "xtest, ytest, ztest = get_data(dfScoreTest, ev_steps, train_dataloader)\n",
    "\n",
    "# 3. Graficar\n",
    "plot_data(xtrain, ytrain, xtest, ytest, 'Pearson Correlation')\n",
    "plot_data(xtrain, ztrain, xtest, ztest, 'Spearman Correlation')"
   ]
  },
  {
   "cell_type": "markdown",
   "metadata": {},
   "source": [
    "## Interpretación\n",
    "Vemos que la correlación de Pearson aumenta durante todo el entrenamiento pero la de Spearman disminuye en el caso de los pares de Test. He puesto la de Spearman también porque en la función EmbeddingSimilarityEvaluator de la librería es la que se usa por defecto para determinar el mejor modelo. Hace falta una prueba con un tamaño mayor y más epochs para sacar conclusiones. Así se verá cuándo empieza a bajar la curva de Pearson, que es cuando seguro el modelo está sobreaprendiendo.\n",
    "\n",
    "La prueba de Spearman sugiere que va a haber malos resultados pero todavía quedan cosas por probar para mejorarlos:\n",
    "* Falta ver el MSE.\n",
    "* Utilizar un conjunto de fenotipos más apropiado.\n",
    "  * Los nodos hoja no están bien representados en la ontología (casi todos tienen similitud lin ~ 0 seguramente porque no aparecen frecuentemente).\n",
    "  * Consecuentemente, volver a obtener un corpus de abstracts con las búsquedas de los nuevos fenotipos.\n",
    "  * Volver a obtener los pares de evaluación de train y test.\n",
    "* Cambiar los hiperparámetros. Aquí habíamos usado:\n",
    "  * warmup_steps = $0.25 * N // batch_{size}$\n",
    "  * $lr = 2^{-5}$\n",
    "  * weight_decay = 0.01\n",
    "* Cambiar la función de pérdida:\n",
    "  * BatchAllTripletLoss(margin=0.3743): podemos seguir usándola o cambiar el margin. Yo pienso que tiene sentido para estos pares (abstract,fenotipo) porque al buscarlos en pubmed el abstract deberá ser parecido al fenotipo (con un margen).\n",
    "  * Usar otra: CosineSimilarityLoss, CoSENTLoss... Estas funciones requieren otro tipo de datos de entrenamiento y por eso las descarté al principio. Necesitan un par de textos (abstract1, abstract2) y su label de similitud \"gold\". En este caso podríamos tomar como gold la distancia lin entre los fenotipos de búsqueda. El sesgo que se introduce es que se supone que la distancia entre los abstracts será parecida a la de los fenotipos. Es lo más parecido a usar directamente \"deltas\" en la pérdida $$\\Delta(x,y) = (cos_{dist}(x,y) - gold) ^2$$\n",
    "  \n",
    "## Implementación MSE Evaluation"
   ]
  },
  {
   "cell_type": "code",
   "execution_count": 43,
   "metadata": {},
   "outputs": [],
   "source": [
    "from sentence_transformers.evaluation import SentenceEvaluator, SimilarityFunction\n",
    "import logging\n",
    "import os\n",
    "import csv\n",
    "from sklearn.metrics.pairwise import paired_cosine_distances, paired_euclidean_distances, paired_manhattan_distances\n",
    "from scipy.stats import pearsonr, spearmanr\n",
    "import numpy as np\n",
    "from typing import List, Literal, Optional\n",
    "from sentence_transformers import InputExample\n",
    "\n",
    "\n",
    "logger = logging.getLogger(__name__)\n",
    "\n",
    "\n",
    "class MSESimilarityEvaluator(SentenceEvaluator):\n",
    "    \"\"\"\n",
    "    Evaluate a model based on the similarity of the embeddings by calculating the MSE\n",
    "    in comparison to the gold standard labels.\n",
    "    The metrics are the cosine similarity as well as euclidean and Manhattan distance.\n",
    "    The returned score is the MSE with a specified metric.\n",
    "\n",
    "    The results are written in a CSV. If a CSV already exists, then values are appended.\n",
    "    \"\"\"\n",
    "\n",
    "    def __init__(\n",
    "        self,\n",
    "        sentences1: List[str],\n",
    "        sentences2: List[str],\n",
    "        scores: List[float],\n",
    "        batch_size: int = 16,\n",
    "        main_similarity: SimilarityFunction = None,\n",
    "        name: str = \"\",\n",
    "        show_progress_bar: bool = False,\n",
    "        write_csv: bool = True,\n",
    "        precision: Optional[Literal[\"float32\", \"int8\", \"uint8\", \"binary\", \"ubinary\"]] = None,\n",
    "    ):\n",
    "        \"\"\"\n",
    "        Constructs an evaluator based for the dataset\n",
    "\n",
    "        The labels need to indicate the similarity between the sentences.\n",
    "\n",
    "        :param sentences1:  List with the first sentence in a pair\n",
    "        :param sentences2: List with the second sentence in a pair\n",
    "        :param scores: Similarity score between sentences1[i] and sentences2[i]\n",
    "        :param write_csv: Write results to a CSV file\n",
    "        :param precision: The precision to use for the embeddings. Can be \"float32\", \"int8\", \"uint8\", \"binary\", or\n",
    "            \"ubinary\". Defaults to None.\n",
    "        \"\"\"\n",
    "        self.sentences1 = sentences1\n",
    "        self.sentences2 = sentences2\n",
    "        self.scores = scores\n",
    "        self.write_csv = write_csv\n",
    "        self.precision = precision\n",
    "\n",
    "        assert len(self.sentences1) == len(self.sentences2)\n",
    "        assert len(self.sentences1) == len(self.scores)\n",
    "        \n",
    "        self.main_similarity = main_similarity\n",
    "        self.name = name\n",
    "\n",
    "        self.batch_size = batch_size\n",
    "        if show_progress_bar is None:\n",
    "            show_progress_bar = (\n",
    "                logger.getEffectiveLevel() == logging.INFO or logger.getEffectiveLevel() == logging.DEBUG\n",
    "            )\n",
    "        self.show_progress_bar = show_progress_bar\n",
    "\n",
    "        self.csv_file = (\n",
    "            \"MSE_similarity_evaluation\"\n",
    "            + (\"_\" + name if name else \"\")\n",
    "            + (\"_\" + precision if precision else \"\")\n",
    "            + \"_results.csv\"\n",
    "        )\n",
    "        self.csv_headers = [\n",
    "            \"epoch\",\n",
    "            \"steps\",\n",
    "            \"cosine_MSE\",\n",
    "            \"euclidean_MSE\",\n",
    "            \"manhattan_MSE\",\n",
    "            \"dot_MSE\",\n",
    "        ]\n",
    "\n",
    "    @classmethod\n",
    "    def from_input_examples(cls, examples: List[InputExample], **kwargs):\n",
    "        sentences1 = []\n",
    "        sentences2 = []\n",
    "        scores = []\n",
    "\n",
    "        for example in examples:\n",
    "            sentences1.append(example.texts[0])\n",
    "            sentences2.append(example.texts[1])\n",
    "            scores.append(example.label)\n",
    "        return cls(sentences1, sentences2, scores, **kwargs)\n",
    "\n",
    "    def __call__(self, model, output_path: str = None, epoch: int = -1, steps: int = -1) -> float:\n",
    "        if epoch != -1:\n",
    "            if steps == -1:\n",
    "                out_txt = \" after epoch {}:\".format(epoch)\n",
    "            else:\n",
    "                out_txt = \" in epoch {} after {} steps:\".format(epoch, steps)\n",
    "        else:\n",
    "            out_txt = \":\"\n",
    "\n",
    "        logger.info(\"EmbeddingSimilarityEvaluator: Evaluating the model on \" + self.name + \" dataset\" + out_txt)\n",
    "        if self.precision is not None:\n",
    "            embeddings1 = model.encode(\n",
    "                self.sentences1,\n",
    "                batch_size=self.batch_size,\n",
    "                show_progress_bar=self.show_progress_bar,\n",
    "                convert_to_numpy=True,\n",
    "                precision=self.precision,\n",
    "                normalize_embeddings=bool(self.precision),\n",
    "            )\n",
    "            embeddings2 = model.encode(\n",
    "                self.sentences2,\n",
    "                batch_size=self.batch_size,\n",
    "                show_progress_bar=self.show_progress_bar,\n",
    "                convert_to_numpy=True,\n",
    "                precision=self.precision,\n",
    "                normalize_embeddings=bool(self.precision),\n",
    "            )\n",
    "            # Binary and ubinary embeddings are packed, so we need to unpack them for the distance metrics\n",
    "            if self.precision == \"binary\":\n",
    "                embeddings1 = (embeddings1 + 128).astype(np.uint8)\n",
    "                embeddings2 = (embeddings2 + 128).astype(np.uint8)\n",
    "            if self.precision in (\"ubinary\", \"binary\"):\n",
    "                embeddings1 = np.unpackbits(embeddings1, axis=1)\n",
    "                embeddings2 = np.unpackbits(embeddings2, axis=1)\n",
    "        else:\n",
    "            embeddings1 = model.encode(\n",
    "                self.sentences1,\n",
    "                batch_size=self.batch_size,\n",
    "                show_progress_bar=self.show_progress_bar,\n",
    "                convert_to_numpy=True,\n",
    "            )\n",
    "            embeddings2 = model.encode(\n",
    "                self.sentences2,\n",
    "                batch_size=self.batch_size,\n",
    "                show_progress_bar=self.show_progress_bar,\n",
    "                convert_to_numpy=True,\n",
    "            )\n",
    "\n",
    "        labels = self.scores\n",
    "\n",
    "        cosine_scores = 1 - (paired_cosine_distances(embeddings1, embeddings2))\n",
    "        manhattan_distances = -paired_manhattan_distances(embeddings1, embeddings2)\n",
    "        euclidean_distances = -paired_euclidean_distances(embeddings1, embeddings2)\n",
    "        dot_products = np.array([np.dot(emb1, emb2) for emb1, emb2 in zip(embeddings1, embeddings2)])\n",
    "\n",
    "        eval_mse_cosine = np.mean((cosine_scores - labels) ** 2)\n",
    "        eval_mse_manhattan = np.mean((manhattan_distances - labels) ** 2)\n",
    "        eval_mse_euclidean = np.mean((euclidean_distances - labels) ** 2)\n",
    "        eval_mse_dot = np.mean((dot_products - labels) ** 2)\n",
    "\n",
    "        logger.info(\n",
    "            \"Cosine-Similarity :\\tMSE: {:.6f}\".format(eval_mse_cosine)\n",
    "        )\n",
    "        logger.info(\n",
    "            \"Manhattan-Distance:\\tMSE: {:.6f}\".format(eval_mse_manhattan)\n",
    "        )\n",
    "        logger.info(\n",
    "            \"Euclidean-Distance:\\tMSE: {:.6f}\".format(eval_mse_euclidean)\n",
    "        )\n",
    "        logger.info(\n",
    "            \"Dot-Product-Similarity:\\tMSE: {:.6f}\".format(eval_mse_dot)\n",
    "        )\n",
    "\n",
    "        if output_path is not None and self.write_csv:\n",
    "            csv_path = os.path.join(output_path, self.csv_file)\n",
    "            output_file_exists = os.path.isfile(csv_path)\n",
    "            with open(csv_path, newline=\"\", mode=\"a\" if output_file_exists else \"w\", encoding=\"utf-8\") as f:\n",
    "                writer = csv.writer(f)\n",
    "                if not output_file_exists:\n",
    "                    writer.writerow(self.csv_headers)\n",
    "\n",
    "                writer.writerow(\n",
    "                    [\n",
    "                        epoch,\n",
    "                        steps,\n",
    "                        eval_mse_cosine,\n",
    "                        eval_mse_euclidean,\n",
    "                        eval_mse_manhattan,\n",
    "                        eval_mse_dot,\n",
    "                    ]\n",
    "                )\n",
    "\n",
    "        if self.main_similarity == SimilarityFunction.COSINE:\n",
    "            return eval_mse_cosine\n",
    "        elif self.main_similarity == SimilarityFunction.EUCLIDEAN:\n",
    "            return eval_mse_euclidean\n",
    "        elif self.main_similarity == SimilarityFunction.MANHATTAN:\n",
    "            return eval_mse_manhattan\n",
    "        elif self.main_similarity == SimilarityFunction.DOT_PRODUCT:\n",
    "            return eval_mse_dot\n",
    "        elif self.main_similarity is None:\n",
    "            return min(eval_mse_cosine, eval_mse_manhattan, eval_mse_euclidean, eval_mse_dot)\n",
    "        else:\n",
    "            raise ValueError(\"Unknown main_similarity value\")"
   ]
  },
  {
   "cell_type": "markdown",
   "metadata": {},
   "source": [
    "## Prueba MSE Evaluation "
   ]
  },
  {
   "cell_type": "code",
   "execution_count": 44,
   "metadata": {},
   "outputs": [
    {
     "name": "stdout",
     "output_type": "stream",
     "text": [
      "Original score (MSE): 0.037398453988366664 (train), 0.041074534341806225 (test)\n",
      "Fine-tuned score (MSE): 0.028498581513886016 (train), 0.02989110581049229 (test)\n"
     ]
    }
   ],
   "source": [
    "# Cargar modelo de nuevo (se sobreescribe al hacer fit)\n",
    "bertmodel = SentenceTransformer(PRITAMDEKAMODEL)\n",
    "fmodel = SentenceTransformer(SRCPATH + '/output/fine-tuned-bio-bert-ev')\n",
    "\n",
    "# 1. Calcular score original\n",
    "\n",
    "EVPATH = SRCPATH + '/output/fine-tuned-bio-bert-ev/eval'\n",
    "\n",
    "evaluatorMSETrain=MSESimilarityEvaluator(ltrain1, ltrain2, goldTrain,\n",
    "                                                                             main_similarity=SimilarityFunction.COSINE,\n",
    "                                                                             name='train')\n",
    "evaluatorMSETest=MSESimilarityEvaluator(ltest1, ltest2, goldTest,\n",
    "                                                                            main_similarity=SimilarityFunction.COSINE,\n",
    "                                                                            name='test')\n",
    "\n",
    "scoreTrain = evaluatorMSETrain.__call__(model=bertmodel, output_path=EVPATH, epoch=0, steps=0)\n",
    "scoreTest = evaluatorMSETest.__call__(model=bertmodel, output_path=EVPATH, epoch=0, steps=0)\n",
    "print(f'Original score (MSE): {scoreTrain} (train), {scoreTest} (test)')\n",
    "\n",
    "scoreTrain = evaluatorMSETrain.__call__(model=fmodel, output_path=EVPATH, epoch=-1, steps=0)\n",
    "scoreTest = evaluatorMSETest.__call__(model=fmodel, output_path=EVPATH, epoch=-1, steps=0)\n",
    "print(f'Fine-tuned score (MSE): {scoreTrain} (train), {scoreTest} (test)')"
   ]
  },
  {
   "cell_type": "code",
   "execution_count": 45,
   "metadata": {},
   "outputs": [
    {
     "name": "stdout",
     "output_type": "stream",
     "text": [
      "0.01004371225634582 0.0042774155067445635\n"
     ]
    }
   ],
   "source": [
    "print(np.var(goldTrain), np.var(goldTest))"
   ]
  }
 ],
 "metadata": {
  "kernelspec": {
   "display_name": "bert",
   "language": "python",
   "name": "python3"
  },
  "language_info": {
   "codemirror_mode": {
    "name": "ipython",
    "version": 3
   },
   "file_extension": ".py",
   "mimetype": "text/x-python",
   "name": "python",
   "nbconvert_exporter": "python",
   "pygments_lexer": "ipython3",
   "version": "3.11.0"
  }
 },
 "nbformat": 4,
 "nbformat_minor": 2
}
