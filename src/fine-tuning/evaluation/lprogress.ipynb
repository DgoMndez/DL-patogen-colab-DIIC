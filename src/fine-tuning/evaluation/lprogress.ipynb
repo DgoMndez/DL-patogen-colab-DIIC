{
 "cells": [
  {
   "cell_type": "markdown",
   "metadata": {},
   "source": [
    "# Learning progress: Evaluación del BERT a lo largo de las etapas del finetuning\n",
    "\n",
    "Lo vamos a hacer primero con un conjunto de prueba:\n",
    "* Abstracts de los que se tomó la muestra: [abstracts.csv](../../pubmed-queries/abstracts/abstracts.csv)\n",
    "* Muestra fenotipos/etiquetas: [index-phenotypes.csv](../../pubmed-queries/abstracts/index-phenotypes.csv)\n",
    "* Fenotipos test: [phenotypes-22-12-15.csv](../pubmed-queries/results/phenotypes-22-12-15.csv) = nodos hoja HPO:PhenotypicAbnormality\n",
    "\n",
    "Pasos a seguir:\n",
    "1. Cargar todos los datos:\n",
    "  * BERT de partida.\n",
    "  * Ontología.\n",
    "  * Datos crudos de entrenamiento (abstracts+fenotipos).\n",
    "2. Preparar el entrenamiento:\n",
    "  * Datos procesados de train (dataloaders)\n",
    "  * Función de pérdida: BatchAllTripletLoss\n",
    "  * Función de evaluación:\n",
    "    * a) EmbeddingSimilarityEvaluator\n",
    "      * Preparar pares de fenotipos (train/test?)\n",
    "      * Calcular gold scores\n",
    "    * b) Implementarla (SentenceEvaluator) con la funcionalidad:\n",
    "      * Calcular MSE y correlación Train/Test.\n",
    "      * Escribir datos en un csv.\n",
    "      * Devolver la correlación de Test.\n",
    "3. Fit: probar en el servidor y guardar los resultados.\n",
    "4. Out: mostrar e interpretar los resultados.\n",
    "  * Gráfica MSE / etapa (train/test)\n",
    "  * Gráfica correlación / etapa (train/test)\n",
    "\n",
    "## 1. Cargar todos los datos"
   ]
  },
  {
   "cell_type": "code",
   "execution_count": 91,
   "metadata": {},
   "outputs": [],
   "source": [
    "# IMPORTS\n",
    "from cmath import nan\n",
    "import sentence_transformers\n",
    "import torch\n",
    "from sentence_transformers import SentenceTransformer\n",
    "import numpy as np\n",
    "import pandas as pd\n",
    "import nltk\n",
    "import string\n",
    "from nltk.tokenize import word_tokenize\n",
    "from nltk.corpus import stopwords"
   ]
  },
  {
   "cell_type": "code",
   "execution_count": 92,
   "metadata": {},
   "outputs": [
    {
     "data": {
      "text/plain": [
       "0"
      ]
     },
     "execution_count": 92,
     "metadata": {},
     "output_type": "execute_result"
    }
   ],
   "source": [
    "# 1. Cargar todos los datos (crudos)\n",
    "from pyhpo import Ontology\n",
    "import os\n",
    "\n",
    "SRCPATH = '../..'\n",
    "SEED = 42\n",
    "\n",
    "# 1.1 BERT de partida\n",
    "\n",
    "PRITAMDEKAMODEL = 'pritamdeka/BioBERT-mnli-snli-scinli-scitail-mednli-stsb'\n",
    "bertmodel = SentenceTransformer(PRITAMDEKAMODEL)\n",
    "model = bertmodel\n",
    "\n",
    "# 1.2 Ontología\n",
    "\n",
    "onto = Ontology(SRCPATH+ '/pubmed-queries/hpo-22-12-15-data')\n",
    "\n",
    "# 1.3 Datos crudos de entrenamiento\n",
    "\n",
    "PATH_DATA = SRCPATH + '/pubmed-queries/abstracts'\n",
    "PATH_DATA_CSV = PATH_DATA + '/abstracts.csv'\n",
    "PATH_DATA_FENOTIPOS = SRCPATH + '/pubmed-queries/results/phenotypes-22-12-15.csv'\n",
    "PATH_INDEX_FENOTIPOS = PATH_DATA + '/index-phenotypes.csv'\n",
    "\n",
    "# abstracts\n",
    "dfPapers = pd.read_csv(PATH_DATA_CSV, sep='\\t', low_memory=False, na_values=['', nan])\n",
    "# fenotipos test\n",
    "dfPhenotypes = pd.read_csv(PATH_DATA_FENOTIPOS, sep=';', low_memory=False, na_values=['', nan])\n",
    "# fenotipos train\n",
    "dfIndex = pd.read_csv(PATH_INDEX_FENOTIPOS, sep='\\t', low_memory=False, na_values=['', nan])\n",
    "\n",
    "# Guardar en directorio manejable\n",
    "PATH_TRAINDATA = SRCPATH + '/traindata'\n",
    "\n",
    "# crear directorios si no existen\n",
    "for dir in [PATH_TRAINDATA, PATH_TRAINDATA + '/abstracts',\n",
    "            PATH_TRAINDATA + '/phenotypes', PATH_TRAINDATA + '/onto']:\n",
    "    if not os.path.exists(dir):\n",
    "        os.makedirs(dir)\n",
    "\n",
    "dfPapers.to_csv(PATH_TRAINDATA + '/abstracts/abstracts.csv', sep='\\t', index=False)\n",
    "dfPhenotypes.to_csv(PATH_TRAINDATA + '/phenotypes/phenotypes.csv', sep=';', index=False)\n",
    "dfIndex.to_csv(PATH_TRAINDATA + '/phenotypes/index.csv', sep='\\t', index=False)\n",
    "\n",
    "# copiar ontology al directorio tambien\n",
    "os.system('cp -r ' + SRCPATH + '/pubmed-queries/hpo-22-12-15-data ' + PATH_TRAINDATA + '/onto')\n"
   ]
  },
  {
   "cell_type": "markdown",
   "metadata": {},
   "source": [
    "## 2. Preparar el entrenamiento"
   ]
  },
  {
   "cell_type": "code",
   "execution_count": 93,
   "metadata": {},
   "outputs": [
    {
     "name": "stdout",
     "output_type": "stream",
     "text": [
      "Na's: 1854\n"
     ]
    },
    {
     "name": "stderr",
     "output_type": "stream",
     "text": [
      "[nltk_data] Downloading package punkt to /home/domingo/nltk_data...\n",
      "[nltk_data]   Package punkt is already up-to-date!\n",
      "[nltk_data] Downloading package stopwords to\n",
      "[nltk_data]     /home/domingo/nltk_data...\n",
      "[nltk_data]   Package stopwords is already up-to-date!\n"
     ]
    },
    {
     "name": "stdout",
     "output_type": "stream",
     "text": [
      "Clean abstracts in:  ../../traindata/abstracts/abstracts-clean.csv\n",
      "Total abstracts:  23226\n",
      "Number of phenotype tags: 100\n"
     ]
    }
   ],
   "source": [
    "# Procesar los datos de train/loss/test\n",
    "\n",
    "# 2.1. Clean abstracts\n",
    "\n",
    "# Tratar NA's en la columna abstracts -> cambiar por el título\n",
    "def getPhenDesc(phenotypeName):\n",
    "    hpoNode = onto.get_hpo_object(phenotypeName) \n",
    "    description = hpoNode.definition if hpoNode.definition else '\"\"'\n",
    "    return description\n",
    "\n",
    "print('Na\\'s:', dfPapers['abstract'].isna().sum())\n",
    "dfPapers['abstract'] = dfPapers['abstract'].fillna(dfPapers['title'])\n",
    "\n",
    "# Función clean abstract\n",
    "\n",
    "# Download the stopwords from NLTK\n",
    "PATH_NTLK = SRCPATH + '/traindata/nltk'\n",
    "if not os.path.exists(PATH_NTLK):\n",
    "    os.makedirs(PATH_NTLK)\n",
    "\n",
    "os.environ['NLTK_DATA'] = PATH_NTLK\n",
    "\n",
    "nltk.download('punkt')\n",
    "nltk.download('stopwords')\n",
    "\n",
    "cached_stopwords = stopwords.words('english')\n",
    "def clean_abstract(abstract):\n",
    "    if isinstance(abstract, float) and np.isnan(abstract):\n",
    "        return ''\n",
    "    # Convert the text to lowercase\n",
    "    abstract = abstract.lower()\n",
    "\n",
    "    # Remove punctuation\n",
    "    abstract = abstract.translate(str.maketrans('', '', string.punctuation))\n",
    "\n",
    "    # Tokenize the text\n",
    "    tokens = word_tokenize(abstract)\n",
    "\n",
    "    # Remove stopwords\n",
    "    tokens = [word for word in tokens if not word in cached_stopwords]\n",
    "\n",
    "    # Join the tokens back into a single string\n",
    "    abstract = ' '.join(tokens)\n",
    "\n",
    "    return abstract\n",
    "\n",
    "# Save clean abstracts csv\n",
    "\n",
    "dfPapers['clean_abstract'] = dfPapers['abstract'].apply(clean_abstract)\n",
    "dfPapers.drop(columns=['abstract'], inplace=True)\n",
    "dfPapers.to_csv(PATH_TRAINDATA + '/abstracts/abstracts-clean.csv', sep='\\t', index=False)\n",
    "\n",
    "print('Clean abstracts in: ', PATH_TRAINDATA + '/abstracts/abstracts-clean.csv')\n",
    "print('Total abstracts: ', len(dfPapers))\n",
    "\n",
    "# 2.2 Tags = phenotypes (train)\n",
    "\n",
    "tags = dfIndex['phenotypeName']\n",
    "numlabels = len(tags)\n",
    "print('Number of phenotype tags:', numlabels)\n",
    "mapping = {tag: i for i, tag in enumerate(tags)}\n",
    "\n",
    "def getLabelNumber(phenotypeName):\n",
    "    return mapping[phenotypeName]"
   ]
  },
  {
   "cell_type": "markdown",
   "metadata": {},
   "source": [
    "### 2.3 Profiling\n",
    "Tomamos solo una muestra del 5% de los abstracts totales para realizar las pruebas más rápido. Cuando funcionen las pruebas se cambia para la versión oficial del experimento."
   ]
  },
  {
   "cell_type": "code",
   "execution_count": 94,
   "metadata": {},
   "outputs": [
    {
     "name": "stdout",
     "output_type": "stream",
     "text": [
      "Number of train examples: 116\n"
     ]
    }
   ],
   "source": [
    "from torch.utils.data import DataLoader, Dataset\n",
    "from sentence_transformers import SentenceTransformer, SentencesDataset, losses, evaluation, InputExample\n",
    "\n",
    "PROFILING = True\n",
    "SAMPLEPERCENT = 0.005 if PROFILING else 1.0\n",
    "SEED = 42\n",
    "torch.manual_seed(SEED)\n",
    "\n",
    "dTrain = dfPapers.sample(frac=SAMPLEPERCENT, random_state=SEED)\n",
    "numexamples = len(dTrain)\n",
    "print('Number of train examples:', numexamples)\n",
    "dTrain.to_csv(PATH_TRAINDATA + '/abstracts/abstracts-train.csv', sep='\\t', index=False)"
   ]
  },
  {
   "cell_type": "markdown",
   "metadata": {},
   "source": [
    "### 2.4 Dataloaders"
   ]
  },
  {
   "cell_type": "code",
   "execution_count": 95,
   "metadata": {},
   "outputs": [
    {
     "name": "stdout",
     "output_type": "stream",
     "text": [
      "Number of test pairs samples: 100\n"
     ]
    }
   ],
   "source": [
    "# Ejemplos de entrenamiento\n",
    "\n",
    "# pares (abstract,fenotipo)\n",
    "abstractsTrain = [InputExample(texts=[clean_abstract(x)], label=mapping[y]) for x, y in zip(dTrain['clean_abstract'], dTrain['phenotypeName'])]\n",
    "train_dataloader = DataLoader(abstractsTrain, shuffle=True, batch_size=16)\n",
    "\n",
    "from itertools import combinations\n",
    "import itertools\n",
    "import random\n",
    "\n",
    "# Ejemplos de evaluación (train)\n",
    "\n",
    "def onto_sim(name1, name2):\n",
    "    phen1 = onto.get_hpo_object(name1)\n",
    "    phen2 = onto.get_hpo_object(name2)\n",
    "    sim = min(phen1.similarity_score(phen2, method='lin'),1)\n",
    "    return sim\n",
    "\n",
    "# Son pares de fenotipos (con su gold score si es necesario)\n",
    "dmp = pd.DataFrame(dfIndex, columns=['phenotypeName'])\n",
    "index_pairs = combinations(range(0,len(dmp)), 2)\n",
    "\n",
    "lpairs = list(combinations(dmp['phenotypeName'], 2))\n",
    "ltrain1, ltrain2 = zip(*lpairs) # 2 listas diferentes para pasar como parámetro al evaluator\n",
    "\n",
    "goldTrain = [onto_sim(pair[0], pair[1]) for pair in lpairs]\n",
    "\n",
    "# Ejemplos de evaluación (test)\n",
    "\n",
    "import random\n",
    "\n",
    "def random_combination(iterable, r):\n",
    "    \"Random selection from itertools.combinations(iterable, r)\"\n",
    "    pool = tuple(iterable)\n",
    "    n = len(pool)\n",
    "    indices = sorted(random.sample(range(n), r))\n",
    "    return tuple(pool[i] for i in indices)\n",
    "\n",
    "# Obtén una lista de todos los valores únicos en la columna 'phenotypeName'\n",
    "\n",
    "num_samples = 100  # Number of combinations to sample\n",
    "print('Number of test pairs samples:', num_samples)\n",
    "\n",
    "# Usa random_combination para obtener una muestra aleatoria de 2000 pares\n",
    "sample_pairs = [random_combination(dfPhenotypes['Phenotype'], 2) for _ in range(num_samples)]\n",
    "ltest1, ltest2 = zip(*sample_pairs)\n",
    "\n",
    "goldTest = [onto_sim(pair[0], pair[1]) for pair in sample_pairs]\n",
    "\n",
    "# Guardar los pares de evaluación\n",
    "\n",
    "dfVal = pd.DataFrame({'phenotype1': ltrain1, 'phenotype2': ltrain2, 'lin': goldTrain})\n",
    "dfTest = pd.DataFrame({'phenotype1': ltest1, 'phenotype2': ltest2, 'lin': goldTest})\n",
    "\n",
    "if not os.path.exists(PATH_TRAINDATA + '/evaluation'):\n",
    "    os.makedirs(PATH_TRAINDATA + '/evaluation')\n",
    "\n",
    "dfVal.to_csv(PATH_TRAINDATA + '/evaluation/pairs-val.csv', sep='\\t', index=False)\n",
    "dfTest.to_csv(PATH_TRAINDATA + '/evaluation/pairs-test.csv', sep='\\t', index=False)"
   ]
  },
  {
   "cell_type": "markdown",
   "metadata": {},
   "source": [
    "### 2.6 Funciones de pérdida y evaluación\n",
    "* Primero probaremos la opción a) con la función predefinida EmbeddingSimilarityEvaluator para los datos de train."
   ]
  },
  {
   "cell_type": "code",
   "execution_count": 96,
   "metadata": {},
   "outputs": [
    {
     "name": "stdout",
     "output_type": "stream",
     "text": [
      "Loss Function: BatchAllTripletLoss(margin=0.3743)\n",
      "Evaluator: EmbeddingSimilarityEvaluator(cosine_similarity)\n"
     ]
    }
   ],
   "source": [
    "# Loss function\n",
    "from sentence_transformers.evaluation import SimilarityFunction\n",
    "\n",
    "MARGIN = 0.3743\n",
    "print(f'Loss Function: BatchAllTripletLoss(margin={MARGIN})')\n",
    "train_loss = losses.BatchAllTripletLoss(model=model, distance_metric=losses.BatchHardTripletLossDistanceFunction.cosine_distance, margin=MARGIN)\n",
    "\n",
    "# Evaluator\n",
    "\n",
    "# a)\n",
    "\n",
    "evaluatorTrain=sentence_transformers.evaluation.EmbeddingSimilarityEvaluator(ltrain1, ltrain2, goldTrain,\n",
    "                                                                             main_similarity=SimilarityFunction.COSINE,\n",
    "                                                                             name='train')\n",
    "evaluatorTest=sentence_transformers.evaluation.EmbeddingSimilarityEvaluator(ltest1, ltest2, goldTest,\n",
    "                                                                            main_similarity=SimilarityFunction.COSINE,\n",
    "                                                                            name='test')\n",
    "combined_evaluator = evaluation.SequentialEvaluator([evaluatorTrain, evaluatorTest],\n",
    "                                                    main_score_function=lambda scores: scores[1])\n",
    "# test score prevalece\n",
    "\n",
    "print('Evaluator: EmbeddingSimilarityEvaluator(cosine_similarity)')"
   ]
  },
  {
   "cell_type": "markdown",
   "metadata": {},
   "source": [
    "### 3. Fit"
   ]
  },
  {
   "cell_type": "code",
   "execution_count": 97,
   "metadata": {},
   "outputs": [
    {
     "name": "stdout",
     "output_type": "stream",
     "text": [
      "Fit parameters: num_epochs=2, evaluation_steps=1,warmup_steps=1\n"
     ]
    }
   ],
   "source": [
    "num_epochs = 2\n",
    "num_examples = len(dTrain)\n",
    "ev_steps = len(train_dataloader)//5 # 5 evaluations per epoch\n",
    "\n",
    "if not os.path.exists(SRCPATH + '/output'):\n",
    "    os.makedirs(SRCPATH + '/output')\n",
    "\n",
    "print(f'Fit parameters: num_epochs={num_epochs},',\n",
    "      f'evaluation_steps={ev_steps},warmup_steps={int(0.25*(num_examples//16))}')"
   ]
  },
  {
   "cell_type": "code",
   "execution_count": 98,
   "metadata": {},
   "outputs": [
    {
     "name": "stdout",
     "output_type": "stream",
     "text": [
      "Fitting...\n"
     ]
    },
    {
     "data": {
      "application/vnd.jupyter.widget-view+json": {
       "model_id": "9768832323e748bd9b4a947e195d89a1",
       "version_major": 2,
       "version_minor": 0
      },
      "text/plain": [
       "Epoch:   0%|          | 0/2 [00:00<?, ?it/s]"
      ]
     },
     "metadata": {},
     "output_type": "display_data"
    },
    {
     "data": {
      "application/vnd.jupyter.widget-view+json": {
       "model_id": "2e1dd5c7db264814ad0f24ac9ce16596",
       "version_major": 2,
       "version_minor": 0
      },
      "text/plain": [
       "Iteration:   0%|          | 0/8 [00:00<?, ?it/s]"
      ]
     },
     "metadata": {},
     "output_type": "display_data"
    },
    {
     "data": {
      "application/vnd.jupyter.widget-view+json": {
       "model_id": "42c4affac14641658dc7f012b408dcb6",
       "version_major": 2,
       "version_minor": 0
      },
      "text/plain": [
       "Iteration:   0%|          | 0/8 [00:00<?, ?it/s]"
      ]
     },
     "metadata": {},
     "output_type": "display_data"
    },
    {
     "name": "stdout",
     "output_type": "stream",
     "text": [
      "Execution time for model.fit: 2809.38 seconds\n"
     ]
    }
   ],
   "source": [
    "print(\"Fitting...\")\n",
    "import time\n",
    "\n",
    "start_time = time.time()\n",
    "\n",
    "fmodel = model.fit(\n",
    "    train_objectives=[(train_dataloader, train_loss)],\n",
    "    evaluator=combined_evaluator,\n",
    "    epochs=num_epochs,\n",
    "    #evaluation_steps=(num_examples//16)//num_epochs//2,\n",
    "    evaluation_steps=ev_steps,\n",
    "    warmup_steps=int(0.25*(num_examples//16)),\n",
    "    output_path=SRCPATH+'/output/fine-tuned-bio-bert-ev',\n",
    "    save_best_model=True,\n",
    "    checkpoint_path='./checkpoint',\n",
    "    checkpoint_save_steps=ev_steps,\n",
    "    checkpoint_save_total_limit=num_epochs\n",
    ")\n",
    "\n",
    "end_time = time.time()\n",
    "execution_time = end_time - start_time\n",
    "\n",
    "print(f\"Execution time for model.fit: {execution_time:.2f} seconds\")"
   ]
  },
  {
   "cell_type": "markdown",
   "metadata": {},
   "source": [
    " ## Resultados\n",
    "El modelo obtenido queda en el directorio [src/output/fine-tuned-bio-bert-ev](../../output/fine-tuned-bio-bert-ev/README.md) y en él hay un subdirectorio eval donde están los csv resultantes de los pasos de evaluación. Los pasos a seguir para analizar los resultados son:\n",
    "1. Calcular score original del modelo model (train y test)\n",
    "2. Obtener los y=scores (pearson) y x = train_step\n",
    "3. Dibujar las gráficas de correlación de train y test\n",
    "4. Analizar los resultados y determinar el próximo objetivo"
   ]
  },
  {
   "cell_type": "code",
   "execution_count": 104,
   "metadata": {},
   "outputs": [
    {
     "name": "stdout",
     "output_type": "stream",
     "text": [
      "Original score (spearman): 0.056239004381953034 (train), 0.06420553740952822 (test)\n"
     ]
    }
   ],
   "source": [
    "# Cargar modelo de nuevo (se sobreescribe al hacer fit)\n",
    "bertmodel = SentenceTransformer(PRITAMDEKAMODEL)\n",
    "model = bertmodel\n",
    "\n",
    "# 1. Calcular score original\n",
    "\n",
    "EVPATH = SRCPATH + '/output/fine-tuned-bio-bert-ev/eval'\n",
    "scoreTrain = evaluatorTrain.__call__(model=bertmodel, output_path=EVPATH, epoch=0, steps=0)\n",
    "scoreTest = evaluatorTest.__call__(model=bertmodel, output_path=EVPATH, epoch=0, steps=0)\n",
    "print(f'Original score (spearman): {scoreTrain} (train), {scoreTest} (test)')"
   ]
  },
  {
   "cell_type": "code",
   "execution_count": 111,
   "metadata": {},
   "outputs": [
    {
     "data": {
      "image/png": "[encoded data removed]",
      "text/plain": [
       "<Figure size 640x480 with 1 Axes>"
      ]
     },
     "metadata": {},
     "output_type": "display_data"
    },
    {
     "data": {
      "image/png": "[encoded data removed]",
      "text/plain": [
       "<Figure size 640x480 with 1 Axes>"
      ]
     },
     "metadata": {},
     "output_type": "display_data"
    }
   ],
   "source": [
    "# 2. Obtener los y=pearson, x=steps\n",
    "\n",
    "dfScoreTrain = pd.read_csv(EVPATH + '/similarity_evaluation_train_results.csv')\n",
    "dfScoreTest = pd.read_csv(EVPATH + '/similarity_evaluation_test_results.csv')\n",
    "\n",
    "xtrain = []\n",
    "ytrain = []\n",
    "xtest = []\n",
    "ytest = []\n",
    "ztrain = []\n",
    "ztest = []\n",
    "\n",
    "row = dfScoreTrain.where(dfScoreTrain['steps'] == 0).iterrows().__next__()\n",
    "x = row[1]['steps']*ev_steps + row[1]['epoch']*len(train_dataloader)\n",
    "y = row[1]['cosine_pearson']\n",
    "z = row[1]['cosine_spearman']\n",
    "xtrain.append(x)\n",
    "ytrain.append(y)\n",
    "ztrain.append(z)\n",
    "\n",
    "row = dfScoreTest.where(dfScoreTest['steps'] == 0).iterrows().__next__()\n",
    "x = row[1]['steps']*ev_steps + row[1]['epoch']*len(train_dataloader)\n",
    "y = row[1]['cosine_pearson']\n",
    "z = row[1]['cosine_spearman']\n",
    "xtrain.append(x)\n",
    "ytrain.append(y)\n",
    "ztrain.append(z)\n",
    "\n",
    "for row in dfScoreTrain.iterrows():\n",
    "    if row[1]['steps'] <= 0:\n",
    "        continue\n",
    "    x = row[1]['steps']*ev_steps + row[1]['epoch']*len(train_dataloader)\n",
    "    y = row[1]['cosine_pearson']\n",
    "    z = row[1]['cosine_spearman']\n",
    "    xtrain.append(x)\n",
    "    ytrain.append(y)\n",
    "    ztrain.append(z)\n",
    "\n",
    "for row in dfScoreTest.iterrows():\n",
    "    if row[1]['steps'] <= 0:\n",
    "        continue\n",
    "    x = row[1]['steps']*ev_steps + row[1]['epoch']*len(train_dataloader)\n",
    "    y = row[1]['cosine_pearson']\n",
    "    z = row[1]['cosine_spearman']\n",
    "    xtest.append(x)\n",
    "    ytest.append(y)\n",
    "    ztest.append(z)\n",
    "\n",
    "# 3. Graficar\n",
    "\n",
    "import matplotlib.pyplot as plt\n",
    "\n",
    "# Gráfica de correlación de Pearson\n",
    "plt.plot(xtrain, ytrain, label='Train')\n",
    "plt.plot(xtest, ytest, label='Test')\n",
    "plt.xlabel('Steps')\n",
    "plt.ylabel('Pearson Correlation')\n",
    "plt.title('Pearson Correlation vs Steps')\n",
    "plt.legend()\n",
    "plt.show()\n",
    "\n",
    "# Gráfica de correlación de Spearman\n",
    "plt.plot(xtrain, ztrain, label='Train')\n",
    "plt.plot(xtest, ztest, label='Test')\n",
    "plt.xlabel('Steps')\n",
    "plt.ylabel('Spearman Correlation')\n",
    "plt.title('Spearman Correlation vs Steps')\n",
    "plt.legend()\n",
    "plt.show()\n"
   ]
  }
 ],
 "metadata": {
  "kernelspec": {
   "display_name": "bert",
   "language": "python",
   "name": "python3"
  },
  "language_info": {
   "codemirror_mode": {
    "name": "ipython",
    "version": 3
   },
   "file_extension": ".py",
   "mimetype": "text/x-python",
   "name": "python",
   "nbconvert_exporter": "python",
   "pygments_lexer": "ipython3",
   "version": "3.11.0"
  }
 },
 "nbformat": 4,
 "nbformat_minor": 2
}
