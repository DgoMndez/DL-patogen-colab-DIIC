{
 "cells": [
  {
   "cell_type": "markdown",
   "metadata": {},
   "source": [
    "# Muestreo de pares de abstracts\n",
    "Vamos a construir un csv que tenga pares de abstracts, sus fenotipos asociados y su similitud lin."
   ]
  },
  {
   "cell_type": "code",
   "execution_count": 1,
   "metadata": {},
   "outputs": [
    {
     "name": "stderr",
     "output_type": "stream",
     "text": [
      "[nltk_data] Downloading package punkt to /home/domingo/nltk_data...\n",
      "[nltk_data]   Package punkt is already up-to-date!\n",
      "[nltk_data] Downloading package stopwords to\n",
      "[nltk_data]     /home/domingo/nltk_data...\n",
      "[nltk_data]   Package stopwords is already up-to-date!\n"
     ]
    }
   ],
   "source": [
    "# Import global variables from project_config.py\n",
    "\n",
    "import os\n",
    "import sys\n",
    "from IPython.core.getipython import get_ipython\n",
    "\n",
    "# Absolute path of the current notebook\n",
    "notebook_path = os.path.realpath(os.path.join(os.getcwd(), get_ipython().starting_dir))\n",
    "# Add module to system path\n",
    "src_path = os.path.dirname(notebook_path)\n",
    "sys.path.append(src_path)\n",
    "\n",
    "import project_config.project_config\n",
    "from project_config.project_config import *\n",
    "from util.clean_abstracts import clean_abstract\n",
    "from util.samples import random_combinations\n",
    "\n",
    "import pandas as pd\n",
    "import numpy as np\n",
    "import matplotlib.pyplot as plt\n",
    "import nltk\n",
    "import string\n",
    "from nltk.tokenize import word_tokenize\n",
    "from nltk.corpus import stopwords\n",
    "from cmath import nan\n",
    "from util.clean_abstracts import countPapers, getIndex\n",
    "from sklearn.utils import resample"
   ]
  },
  {
   "cell_type": "code",
   "execution_count": 2,
   "metadata": {},
   "outputs": [],
   "source": [
    "# 1. Load abstracts and index data\n",
    "\n",
    "NAME_ABSTRACTS = 'abstracts-31-05-train'\n",
    "\n",
    "NAME_INDEX = \"index-31-05-train\"\n",
    "NAME_PHEN = \"phenotypes_nz_05-05_10\"\n",
    "\n",
    "PATH_ABSTRACTS_CSV = PATH_ABSTRACTS + '/' + NAME_ABSTRACTS + \".csv\"\n",
    "PATH_INDEX_CSV = PATH_PHENOTYPES +'/'+ NAME_INDEX + \".csv\"\n",
    "PATH_DATA_FENOTIPOS = PATH_PHENOTYPES + '/' + NAME_PHEN + \".csv\"\n",
    "\n",
    "dfPhen = pd.read_csv(PATH_DATA_FENOTIPOS, sep='\\t', low_memory=False, na_values=['', nan])\n",
    "dfIndex = pd.read_csv(PATH_INDEX_CSV, sep='\\t', low_memory=False, na_values=['', nan])"
   ]
  },
  {
   "cell_type": "code",
   "execution_count": 3,
   "metadata": {},
   "outputs": [],
   "source": [
    "dfAbstracts = pd.read_csv(PATH_ABSTRACTS_CSV, sep='\\t', low_memory=False, na_values=['', nan])"
   ]
  },
  {
   "cell_type": "code",
   "execution_count": 4,
   "metadata": {},
   "outputs": [
    {
     "name": "stdout",
     "output_type": "stream",
     "text": [
      "<class 'pandas.core.frame.DataFrame'>\n",
      "RangeIndex: 802664 entries, 0 to 802663\n",
      "Data columns (total 6 columns):\n",
      " #   Column          Non-Null Count   Dtype \n",
      "---  ------          --------------   ----- \n",
      " 0   paperId         802664 non-null  int64 \n",
      " 1   phenotypeId     802664 non-null  object\n",
      " 2   phenotypeName   802664 non-null  object\n",
      " 3   title           802664 non-null  object\n",
      " 4   clean_abstract  802664 non-null  object\n",
      " 5   length          802664 non-null  int64 \n",
      "dtypes: int64(2), object(4)\n",
      "memory usage: 36.7+ MB\n",
      "<class 'pandas.core.frame.DataFrame'>\n",
      "RangeIndex: 4070 entries, 0 to 4069\n",
      "Data columns (total 3 columns):\n",
      " #   Column         Non-Null Count  Dtype \n",
      "---  ------         --------------  ----- \n",
      " 0   phenotypeId    4070 non-null   object\n",
      " 1   numberPapers   4070 non-null   int64 \n",
      " 2   phenotypeName  4070 non-null   object\n",
      "dtypes: int64(1), object(2)\n",
      "memory usage: 95.5+ KB\n",
      "<class 'pandas.core.frame.DataFrame'>\n",
      "RangeIndex: 6107 entries, 0 to 6106\n",
      "Data columns (total 8 columns):\n",
      " #   Column   Non-Null Count  Dtype  \n",
      "---  ------   --------------  -----  \n",
      " 0   id       6107 non-null   object \n",
      " 1   name     6107 non-null   object \n",
      " 2   def      5102 non-null   object \n",
      " 3   depth    6107 non-null   int64  \n",
      " 4   isLeaf   6107 non-null   bool   \n",
      " 5   ic       6107 non-null   float64\n",
      " 6   ic_gene  6107 non-null   float64\n",
      " 7   ic_omim  6107 non-null   float64\n",
      "dtypes: bool(1), float64(3), int64(1), object(3)\n",
      "memory usage: 340.1+ KB\n",
      "Number of papers: 802664, Number of phen: 4070\n"
     ]
    }
   ],
   "source": [
    "dfPapers = dfAbstracts\n",
    "dfPapers.info()\n",
    "dfIndex.info()\n",
    "dfPhen.info()\n",
    "\n",
    "m = dfIndex.shape[0]\n",
    "n = dfPapers.shape[0]\n",
    "print(f\"Number of papers: {n}, Number of phen: {m}\")"
   ]
  },
  {
   "cell_type": "code",
   "execution_count": 5,
   "metadata": {},
   "outputs": [
    {
     "data": {
      "text/plain": [
       "count    4070.000000\n",
       "mean      197.214742\n",
       "std        67.197194\n",
       "min        39.000000\n",
       "25%       156.000000\n",
       "50%       239.000000\n",
       "75%       239.000000\n",
       "max       239.000000\n",
       "Name: numberPapers, dtype: float64"
      ]
     },
     "execution_count": 5,
     "metadata": {},
     "output_type": "execute_result"
    }
   ],
   "source": [
    "from datetime import datetime\n",
    "\n",
    "s = datetime.today().strftime('%d-%m')\n",
    "\n",
    "import math\n",
    "import random\n",
    "from itertools import combinations\n",
    "import bisect\n",
    "\n",
    "from pyhpo import Ontology\n",
    "\n",
    "dfIndex['numberPapers'].describe()"
   ]
  },
  {
   "cell_type": "markdown",
   "metadata": {},
   "source": [
    "## Muestreo 1\n",
    "\n",
    "Para cada fenotipo muestrear 10 abstracts, después muestrear todos los 2os abstracts, calcular similitud lin entre tags. Así se consigue que cada etiqueta (fenotipo) tenga al menos 10 ejemplos."
   ]
  },
  {
   "cell_type": "code",
   "execution_count": 6,
   "metadata": {},
   "outputs": [
    {
     "name": "stdout",
     "output_type": "stream",
     "text": [
      "<class 'pandas.core.frame.DataFrame'>\n",
      "RangeIndex: 40700 entries, 0 to 40699\n",
      "Data columns (total 12 columns):\n",
      " #   Column     Non-Null Count  Dtype \n",
      "---  ------     --------------  ----- \n",
      " 0   paperId1   40700 non-null  int64 \n",
      " 1   phenId1    40700 non-null  object\n",
      " 2   phenName1  40700 non-null  object\n",
      " 3   title1     40700 non-null  object\n",
      " 4   text1      40700 non-null  object\n",
      " 5   len1       40700 non-null  int64 \n",
      " 6   paperId2   40700 non-null  int64 \n",
      " 7   phenId2    40700 non-null  object\n",
      " 8   phenName2  40700 non-null  object\n",
      " 9   title2     40700 non-null  object\n",
      " 10  text2      40700 non-null  object\n",
      " 11  len2       40700 non-null  int64 \n",
      "dtypes: int64(4), object(8)\n",
      "memory usage: 3.7+ MB\n"
     ]
    }
   ],
   "source": [
    "dict = {'paperId1' : [], 'phenId1' : [], 'phenName1' : [], 'title1' : [], 'text1' : [], 'len1' : [],\n",
    "        'paperId2' : [], 'phenId2' : [], 'phenName2' : [], 'title2' : [], 'text2' : [], 'len2' : []}\n",
    "\n",
    "for phenotypeName in dfIndex['phenotypeName']:\n",
    "    # muestra de 10 papers\n",
    "    papers = dfPapers[dfPapers['phenotypeName'] == phenotypeName].sample(10)\n",
    "    dict['paperId1'] += papers['paperId'].tolist()\n",
    "    dict['phenId1'] += papers['phenotypeId'].tolist()\n",
    "    dict['phenName1'] += papers['phenotypeName'].tolist()\n",
    "    dict['title1'] += papers['title'].tolist()\n",
    "    dict['text1'] += papers['clean_abstract'].tolist()\n",
    "    dict['len1'] += papers['length'].tolist()\n",
    "\n",
    "# Muestreo de los papers restantes\n",
    "papers = dfPapers.sample(m*10)\n",
    "dict['paperId2'] += papers['paperId'].tolist()\n",
    "dict['phenId2'] += papers['phenotypeId'].tolist()\n",
    "dict['phenName2'] += papers['phenotypeName'].tolist()\n",
    "dict['title2'] += papers['title'].tolist()\n",
    "dict['text2'] += papers['clean_abstract'].tolist()\n",
    "dict['len2'] += papers['length'].tolist()\n",
    "\n",
    "dfPairings = pd.DataFrame(dict)\n",
    "dfPairings.info()"
   ]
  },
  {
   "cell_type": "code",
   "execution_count": 7,
   "metadata": {},
   "outputs": [
    {
     "name": "stdout",
     "output_type": "stream",
     "text": [
      "<class 'pandas.core.frame.DataFrame'>\n",
      "RangeIndex: 40700 entries, 0 to 40699\n",
      "Data columns (total 12 columns):\n",
      " #   Column     Non-Null Count  Dtype \n",
      "---  ------     --------------  ----- \n",
      " 0   paperId1   40700 non-null  int64 \n",
      " 1   phenId1    40700 non-null  object\n",
      " 2   phenName1  40700 non-null  object\n",
      " 3   title1     40700 non-null  object\n",
      " 4   text1      40700 non-null  object\n",
      " 5   len1       40700 non-null  int64 \n",
      " 6   paperId2   40700 non-null  int64 \n",
      " 7   phenId2    40700 non-null  object\n",
      " 8   phenName2  40700 non-null  object\n",
      " 9   title2     40700 non-null  object\n",
      " 10  text2      40700 non-null  object\n",
      " 11  len2       40700 non-null  int64 \n",
      "dtypes: int64(4), object(8)\n",
      "memory usage: 3.7+ MB\n"
     ]
    }
   ],
   "source": [
    "dfPairings.info()"
   ]
  },
  {
   "cell_type": "code",
   "execution_count": 8,
   "metadata": {},
   "outputs": [],
   "source": [
    "# Agregar similitud Lin\n",
    "\n",
    "from util.phenotypes import getSim\n",
    "\n",
    "dfPairings['similarity'] = dfPairings.apply(lambda row: getSim(row['phenName1'], row['phenName2']), axis=1)\n"
   ]
  },
  {
   "cell_type": "code",
   "execution_count": 10,
   "metadata": {},
   "outputs": [
    {
     "data": {
      "text/plain": [
       "count    40700.000000\n",
       "mean         0.026406\n",
       "std          0.089197\n",
       "min          0.000000\n",
       "25%          0.000044\n",
       "50%          0.000050\n",
       "75%          0.000080\n",
       "max          1.832676\n",
       "Name: similarity, dtype: float64"
      ]
     },
     "execution_count": 10,
     "metadata": {},
     "output_type": "execute_result"
    }
   ],
   "source": [
    "dfPairings['similarity'].describe()\n",
    "\n",
    "# plot\n",
    "\n",
    "s"
   ]
  },
  {
   "cell_type": "code",
   "execution_count": 13,
   "metadata": {},
   "outputs": [
    {
     "data": {
      "text/plain": [
       "<Axes: xlabel='similarity', ylabel='Density'>"
      ]
     },
     "execution_count": 13,
     "metadata": {},
     "output_type": "execute_result"
    },
    {
     "data": {
      "image/png": "[encoded data removed]",
      "text/plain": [
       "<Figure size 640x480 with 1 Axes>"
      ]
     },
     "metadata": {},
     "output_type": "display_data"
    }
   ],
   "source": [
    "dfPairings['similarity'] = dfPairings['similarity'].apply(lambda x: min(x, 1))\n",
    "import seaborn as sns\n",
    "\n",
    "sns.kdeplot(dfPairings['similarity'])"
   ]
  },
  {
   "cell_type": "code",
   "execution_count": 14,
   "metadata": {},
   "outputs": [],
   "source": [
    "s = datetime.today().strftime('%d-%m')\n",
    "dfPairings.to_csv(PATH_ABSTRACTS + '/pairings-' + s + '.csv', sep='\\t', index=False)"
   ]
  }
 ],
 "metadata": {
  "kernelspec": {
   "display_name": "bert",
   "language": "python",
   "name": "python3"
  },
  "language_info": {
   "codemirror_mode": {
    "name": "ipython",
    "version": 3
   },
   "file_extension": ".py",
   "mimetype": "text/x-python",
   "name": "python",
   "nbconvert_exporter": "python",
   "pygments_lexer": "ipython3",
   "version": "3.11.0"
  }
 },
 "nbformat": 4,
 "nbformat_minor": 2
}
